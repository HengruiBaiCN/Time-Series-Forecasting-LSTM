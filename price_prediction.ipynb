{
 "cells": [
  {
   "cell_type": "code",
   "execution_count": 40,
   "metadata": {},
   "outputs": [],
   "source": [
    "import numpy as np\n",
    "import pandas as pd\n",
    "import matplotlib.pyplot as plt\n",
    "import pandas_datareader.data as web\n",
    "import datetime as dt\n",
    "\n",
    "from sklearn.preprocessing import MinMaxScaler\n",
    "# from tensorflow\n",
    "from keras.models import Sequential\n",
    "from keras.layers import Dense, Dropout, LSTM\n"
   ]
  },
  {
   "cell_type": "code",
   "execution_count": 48,
   "metadata": {},
   "outputs": [
    {
     "data": {
      "text/html": [
       "<div>\n",
       "<style scoped>\n",
       "    .dataframe tbody tr th:only-of-type {\n",
       "        vertical-align: middle;\n",
       "    }\n",
       "\n",
       "    .dataframe tbody tr th {\n",
       "        vertical-align: top;\n",
       "    }\n",
       "\n",
       "    .dataframe thead th {\n",
       "        text-align: right;\n",
       "    }\n",
       "</style>\n",
       "<table border=\"1\" class=\"dataframe\">\n",
       "  <thead>\n",
       "    <tr style=\"text-align: right;\">\n",
       "      <th></th>\n",
       "      <th>Open</th>\n",
       "      <th>High</th>\n",
       "      <th>Low</th>\n",
       "      <th>Close</th>\n",
       "      <th>Volume</th>\n",
       "    </tr>\n",
       "    <tr>\n",
       "      <th>Date</th>\n",
       "      <th></th>\n",
       "      <th></th>\n",
       "      <th></th>\n",
       "      <th></th>\n",
       "      <th></th>\n",
       "    </tr>\n",
       "  </thead>\n",
       "  <tbody>\n",
       "    <tr>\n",
       "      <th>2012-01-02</th>\n",
       "      <td>21400</td>\n",
       "      <td>21600</td>\n",
       "      <td>21300</td>\n",
       "      <td>21600</td>\n",
       "      <td>263300</td>\n",
       "    </tr>\n",
       "    <tr>\n",
       "      <th>2012-01-03</th>\n",
       "      <td>21860</td>\n",
       "      <td>22100</td>\n",
       "      <td>21840</td>\n",
       "      <td>22100</td>\n",
       "      <td>339046</td>\n",
       "    </tr>\n",
       "    <tr>\n",
       "      <th>2012-01-04</th>\n",
       "      <td>22100</td>\n",
       "      <td>22200</td>\n",
       "      <td>21500</td>\n",
       "      <td>21600</td>\n",
       "      <td>342389</td>\n",
       "    </tr>\n",
       "    <tr>\n",
       "      <th>2012-01-05</th>\n",
       "      <td>21460</td>\n",
       "      <td>21580</td>\n",
       "      <td>21100</td>\n",
       "      <td>21100</td>\n",
       "      <td>346691</td>\n",
       "    </tr>\n",
       "    <tr>\n",
       "      <th>2012-01-06</th>\n",
       "      <td>21120</td>\n",
       "      <td>21319</td>\n",
       "      <td>20600</td>\n",
       "      <td>20800</td>\n",
       "      <td>376753</td>\n",
       "    </tr>\n",
       "  </tbody>\n",
       "</table>\n",
       "</div>"
      ],
      "text/plain": [
       "             Open   High    Low  Close  Volume\n",
       "Date                                          \n",
       "2012-01-02  21400  21600  21300  21600  263300\n",
       "2012-01-03  21860  22100  21840  22100  339046\n",
       "2012-01-04  22100  22200  21500  21600  342389\n",
       "2012-01-05  21460  21580  21100  21100  346691\n",
       "2012-01-06  21120  21319  20600  20800  376753"
      ]
     },
     "execution_count": 48,
     "metadata": {},
     "output_type": "execute_result"
    }
   ],
   "source": [
    "# load data\n",
    "company = '005930'\n",
    "\n",
    "start = dt.datetime(2012,1,1)\n",
    "end = dt.datetime(2022,1,1)\n",
    "\n",
    "data = web.DataReader(company, 'naver', start, end)\n",
    "\n",
    "data.head()"
   ]
  },
  {
   "cell_type": "code",
   "execution_count": 49,
   "metadata": {},
   "outputs": [],
   "source": [
    "# prepare data\n",
    "scaler = MinMaxScaler(feature_range=(0,1)) # transform the data range from (0-1000) to (0-1)\n",
    "scaled_data = scaler.fit_transform(data['Close'].values.reshape(-1,1)) # only interest the closing price # reshape to (-1, 1) represent (row, column) - column as 1 but row unknown\n",
    "\n",
    "prediction_days = 60\n",
    "\n",
    "x_train = []\n",
    "y_train = []\n",
    "\n",
    "for x in range(prediction_days, len(scaled_data)):\n",
    "    x_train.append(scaled_data[x-prediction_days:x, 0]) # x = [[12345, 678910]], x[0, 1] = 678910\n",
    "    y_train.append(scaled_data[x, 0])\n",
    "    pass\n",
    "\n",
    "x_train, y_train = np.array(x_train), np.array(y_train)\n",
    "x_train = np.reshape(x_train, (x_train.shape[0], x_train.shape[1], 1))"
   ]
  },
  {
   "cell_type": "code",
   "execution_count": 50,
   "metadata": {},
   "outputs": [
    {
     "name": "stdout",
     "output_type": "stream",
     "text": [
      "Epoch 1/25\n",
      "76/76 [==============================] - 19s 65ms/step - loss: 0.0068\n",
      "Epoch 2/25\n",
      "76/76 [==============================] - 5s 66ms/step - loss: 0.0026\n",
      "Epoch 3/25\n",
      "76/76 [==============================] - 5s 67ms/step - loss: 0.0020\n",
      "Epoch 4/25\n",
      "76/76 [==============================] - 5s 66ms/step - loss: 0.0022\n",
      "Epoch 5/25\n",
      "76/76 [==============================] - 5s 66ms/step - loss: 0.0021\n",
      "Epoch 6/25\n",
      "76/76 [==============================] - 5s 68ms/step - loss: 0.0019\n",
      "Epoch 7/25\n",
      "76/76 [==============================] - 5s 66ms/step - loss: 0.0017\n",
      "Epoch 8/25\n",
      "76/76 [==============================] - 5s 66ms/step - loss: 0.0017\n",
      "Epoch 9/25\n",
      "76/76 [==============================] - 5s 71ms/step - loss: 0.0014\n",
      "Epoch 10/25\n",
      "76/76 [==============================] - 6s 79ms/step - loss: 0.0019\n",
      "Epoch 11/25\n",
      "76/76 [==============================] - 6s 78ms/step - loss: 0.0015\n",
      "Epoch 12/25\n",
      "76/76 [==============================] - 6s 76ms/step - loss: 0.0016\n",
      "Epoch 13/25\n",
      "76/76 [==============================] - 5s 72ms/step - loss: 0.0012\n",
      "Epoch 14/25\n",
      "76/76 [==============================] - 5s 71ms/step - loss: 0.0014\n",
      "Epoch 15/25\n",
      "76/76 [==============================] - 6s 75ms/step - loss: 0.0013\n",
      "Epoch 16/25\n",
      "76/76 [==============================] - 6s 72ms/step - loss: 0.0013\n",
      "Epoch 17/25\n",
      "76/76 [==============================] - 5s 72ms/step - loss: 0.0012\n",
      "Epoch 18/25\n",
      "76/76 [==============================] - 6s 76ms/step - loss: 0.0014\n",
      "Epoch 19/25\n",
      "76/76 [==============================] - 6s 75ms/step - loss: 0.0012\n",
      "Epoch 20/25\n",
      "76/76 [==============================] - 6s 76ms/step - loss: 0.0011\n",
      "Epoch 21/25\n",
      "76/76 [==============================] - 6s 76ms/step - loss: 0.0012\n",
      "Epoch 22/25\n",
      "76/76 [==============================] - 6s 74ms/step - loss: 0.0011\n",
      "Epoch 23/25\n",
      "76/76 [==============================] - 6s 84ms/step - loss: 0.0013\n",
      "Epoch 24/25\n",
      "76/76 [==============================] - 6s 74ms/step - loss: 0.0010\n",
      "Epoch 25/25\n",
      "76/76 [==============================] - 6s 74ms/step - loss: 0.0010\n"
     ]
    },
    {
     "data": {
      "text/plain": [
       "<keras.callbacks.History at 0x268ffe2c1c0>"
      ]
     },
     "execution_count": 50,
     "metadata": {},
     "output_type": "execute_result"
    }
   ],
   "source": [
    "# Build the model\n",
    "model = Sequential()\n",
    "\n",
    "model.add(LSTM(units=50, return_sequences=True, input_shape=(x_train.shape[1], 1)))\n",
    "model.add(Dropout(0.2))\n",
    "model.add(LSTM(units=50, return_sequences=True))\n",
    "model.add(Dropout(0.2))\n",
    "model.add(LSTM(units=50))\n",
    "model.add(Dropout(0.2))\n",
    "model.add(Dense(units=1)) #  prediction of the next closing price\n",
    "\n",
    "model.compile(optimizer='adam', loss='mean_squared_error')\n",
    "model.fit(x_train, y_train, epochs=25, batch_size=32)\n"
   ]
  },
  {
   "cell_type": "code",
   "execution_count": 51,
   "metadata": {},
   "outputs": [],
   "source": [
    "''' Test the model accuracy on Existing data '''\n",
    "\n",
    "# Load the data\n",
    "test_start = dt.datetime(2022,1,1)\n",
    "test_end = dt.datetime.now()\n",
    "\n",
    "test_data = web.DataReader(company, 'naver', test_start, test_end)\n",
    "actual_prices = test_data['Close'].values\n",
    "\n",
    "total_dataset = pd.concat((data['Close'], test_data['Close']), axis=0)\n",
    "\n",
    "model_inputs = total_dataset[len(total_dataset) - len(test_data) - prediction_days:].values\n",
    "model_inputs = model_inputs.reshape(-1, 1)\n",
    "model_inputs = scaler.transform(model_inputs)"
   ]
  },
  {
   "cell_type": "code",
   "execution_count": 52,
   "metadata": {},
   "outputs": [
    {
     "name": "stdout",
     "output_type": "stream",
     "text": [
      "8/8 [==============================] - 4s 18ms/step\n"
     ]
    }
   ],
   "source": [
    "# Make predictions on test data\n",
    "x_test = []\n",
    "\n",
    "for x in range(prediction_days, len(model_inputs)):\n",
    "    x_test.append(model_inputs[x-prediction_days:x, 0])\n",
    "    pass\n",
    "\n",
    "x_test = np.array(x_test)\n",
    "x_test = np.reshape(x_test, (x_test.shape[0], x_test.shape[1], 1))\n",
    "\n",
    "predicted_prices = model.predict(x_test)\n",
    "predicted_prices = scaler.inverse_transform(predicted_prices)"
   ]
  },
  {
   "cell_type": "code",
   "execution_count": 57,
   "metadata": {},
   "outputs": [
    {
     "data": {
      "image/png": "[encoded data removed]",
      "text/plain": [
       "<Figure size 640x480 with 1 Axes>"
      ]
     },
     "metadata": {},
     "output_type": "display_data"
    },
    {
     "name": "stdout",
     "output_type": "stream",
     "text": [
      "['78600' '78700' '77400' '76900' '78300' '78000' '78900' '78900' '77900'\n",
      " '77300' '77500' '77000' '76300' '76500' '75600' '75100' '74000' '73300'\n",
      " '71300' '73300' '73300' '74000' '73000' '73500' '74700' '75400' '74900'\n",
      " '73700' '73700' '74800' '75000' '74300' '74200' '73400' '73000' '71500'\n",
      " '71900' '72100' '71700' '72900' '71500' '70100' '69500' '71200' '70000'\n",
      " '70200' '69500' '70400' '71200' '70700' '69900' '70300' '70500' '69800'\n",
      " '69800' '69700' '70200' '69900' '69600' '69100' '69300' '69200' '68500'\n",
      " '68000' '67800' '67900' '67000' '68700' '67500' '66600' '66700' '67300'\n",
      " '67400' '67700' '67000' '66300' '66100' '65000' '64800' '67400' '67300'\n",
      " '67500' '67900' '66500' '66100' '65700' '65700' '64900' '66500' '66300'\n",
      " '67600' '68100' '67500' '68000' '67900' '66500' '66400' '65900' '66500'\n",
      " '67700' '67400' '66700' '66800' '65500' '65300' '65200' '63800' '62100'\n",
      " '61900' '60700' '60900' '59800' '58700' '58500' '57600' '57400' '58400'\n",
      " '58800' '59400' '58000' '57000' '56200' '57100' '57200' '56400' '58200'\n",
      " '58700' '58800' '58100' '58000' '57500' '60000' '61900' '60900' '60500'\n",
      " '61800' '61300' '61100' '61700' '61800' '61900' '61400' '61300' '61700'\n",
      " '61300' '61500' '61500' '60800' '60000' '59100' '59900' '60200' '61000'\n",
      " '60400' '61500' '60900' '60000' '59100' '59000' '59700' '60000' '58600'\n",
      " '58800' '59700' '58400' '57500' '57100' '57100' '56000' '55600' '58100'\n",
      " '56800' '56000' '56200' '56400' '55800' '55300' '54400' '54500' '53900'\n",
      " '54200' '52900' '52600' '53100' '55200' '56000' '56300' '56200' '55400'\n",
      " '55800' '55200' '56300' '56600' '56500' '55800' '55500' '55900' '57500'\n",
      " '57700' '59400' '59500' '57300' '59400' '60000' '59600' '59200' '59400'\n",
      " '60200' '61800' '62000' '60400' '62900' '61900' '62400' '62700' '61400'\n",
      " '61800' '61400' '60600' '61000' '61400' '61000' '60100' '60600' '62200'\n",
      " '62600' '60400' '60300' '59200' '58900' '59200' '60400' '59500' '59700'\n",
      " '60500' '59300' '59500']\n"
     ]
    }
   ],
   "source": [
    "# Plot the test predictions\n",
    "plt.plot(actual_prices, color='yellow', label=f'Actual price')\n",
    "plt.plot(predicted_prices, color='red', label=f'Predicted price')\n",
    "plt.title(f'{company} Share Price')\n",
    "plt.xlabel('time')\n",
    "plt.ylabel('share price')\n",
    "plt.legend()\n",
    "plt.show()\n",
    "\n",
    "print(actual_prices)"
   ]
  },
  {
   "cell_type": "code",
   "execution_count": null,
   "metadata": {},
   "outputs": [],
   "source": []
  },
  {
   "cell_type": "code",
   "execution_count": null,
   "metadata": {},
   "outputs": [],
   "source": []
  },
  {
   "cell_type": "code",
   "execution_count": null,
   "metadata": {},
   "outputs": [],
   "source": []
  }
 ],
 "metadata": {
  "kernelspec": {
   "display_name": "base",
   "language": "python",
   "name": "python3"
  },
  "language_info": {
   "codemirror_mode": {
    "name": "ipython",
    "version": 3
   },
   "file_extension": ".py",
   "mimetype": "text/x-python",
   "name": "python",
   "nbconvert_exporter": "python",
   "pygments_lexer": "ipython3",
   "version": "3.8.15"
  },
  "orig_nbformat": 4,
  "vscode": {
   "interpreter": {
    "hash": "9a11fc369bef78f0f7b668e80610cb73e96748e72647e0dbcd50a063f5b1fedd"
   }
  }
 },
 "nbformat": 4,
 "nbformat_minor": 2
}
